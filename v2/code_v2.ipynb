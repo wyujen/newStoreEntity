{
 "cells": [
  {
   "cell_type": "markdown",
   "metadata": {},
   "source": [
    "# 說明\n",
    "### 1. 程式主旨\n",
    "處理建立系統時，多個 entity 建立同類型檔案，替換其字眼，降低人為錯誤\n",
    "\n",
    "### 2. 替換方式\n",
    "將輸入之資料夾及檔案(名稱、內容)，做單詞替換，程式預設會同時替換第一字母為大寫相同單詞，且也會替換資料中符合單詞結構之字詞。\n",
    "\n",
    "*註 : 目前僅有同一類型檔案替換同一字眼*\n",
    "\n",
    "##### example :\n",
    "    目標字詞 : original\n",
    "    替換字詞 : group\n",
    "\n",
    "    input : original -> output : group\n",
    "    input : Original -> output : Group\n",
    "    input : originalxxxx -> output : groupxxxx\n",
    "    input : Originalxxxx -> output : groupxxxx\n",
    "    input : xxxxoriginal -> output : xxxxgroup\n",
    "    input : xxxxOriginal -> output : xxxxGroup\n",
    "\n",
    "    input : origin -> output : origin;\n",
    "### 3. 可處理資料結構\n",
    "##### I. one folder one entity many files (1.all_folder)\n",
    "一個 entity 會是一個資料夾，裡面有多個檔案\n",
    "\n",
    "*註：如檔案名稱需做替換，需為同一目標字詞*\n",
    "\n",
    "*註 : input 資料夾不限一個，但下層名稱需是目標字詞*\n",
    "\n",
    "##### example :\n",
    "    目標字詞 : original\n",
    "    替換字詞 : group、user\n",
    "\n",
    "    input 檔案 : inputData/1.all_folder/froent/original/original.model.ts\n",
    "    input 檔案 : inputData/1.all_folder/froent/original/original.action.ts\n",
    "    input 檔案 : inputData/1.all_folder/backend/original/original.model.ts\n",
    "    input 檔案 : inputData/1.all_folder/backend/original/original.action.ts\n",
    "\n",
    "    output 檔案 : outputData/1.all_folder/froent/group/group.model.ts\n",
    "    output 檔案 : outputData/1.all_folder/froent/group/group.action.ts\n",
    "    output 檔案 : outputData/1.all_folder/froent/user/user.model.ts\n",
    "    output 檔案 : outputData/1.all_folder/froent/user/user.action.ts\n",
    "    output 檔案 : outputData/1.all_folder/backend/group/group.model.ts\n",
    "    output 檔案 : outputData/1.all_folder/backend/group/group.action.ts\n",
    "    output 檔案 : outputData/1.all_folder/backend/user/user.model.ts\n",
    "    output 檔案 : outputData/1.all_folder/backend/user/user.action.ts\n",
    "\n",
    "\n",
    "##### II. one folder all entity one files (2.one_folder)\n",
    "所有的 entity 會放在同一個資料夾中，一個檔案會是一個 entity\n",
    "\n",
    "*註：如檔案名稱需做替換，需為同一目標字詞*\n",
    "\n",
    "##### example :\n",
    "    \n",
    "    目標字詞 : original\n",
    "    替換字詞 : group、user\n",
    "\n",
    "    input 檔案 : inputData/2.one_folder/effect/original.model.ts\n",
    "\n",
    "    output 檔案 : outputData/2.one_folder/effect/group.model.ts\n",
    "    output 檔案 : outputData/2.one_folder/effect/user.model.ts\n",
    "\n",
    "##### III. all entity one files (3.one_file)\n",
    "\n",
    "所有的 entity 會放在同一個檔案中\n",
    "\n",
    "##### example : \n",
    "    \n",
    "    目標字詞 : original\n",
    "    替換字詞 : group、user\n",
    "\n",
    "    input 檔案 : inputData/3.one_file/effect/effect.ts\n",
    "\n",
    "    output 檔案 : outputData/3.one_file/effect/effect.ts\n",
    "\n",
    "\n",
    "\n",
    "\n",
    "\n"
   ]
  },
  {
   "cell_type": "markdown",
   "metadata": {},
   "source": [
    "# 程式"
   ]
  },
  {
   "cell_type": "markdown",
   "metadata": {},
   "source": [
    "### Set"
   ]
  },
  {
   "cell_type": "code",
   "execution_count": 26,
   "metadata": {},
   "outputs": [],
   "source": [
    "# 目標字詞 default: 'original'\n",
    "target_word = 'original' #這個字串會被替換 \n",
    "big_target_word = target_word[0].upper() + target_word[1:]\n",
    "\n",
    "# 替換字詞列表\n",
    "output_entitys = ['group','purchuserOrder','procedure','salesOrder','material','product','inventory','inventoryRecipt','billOfMaterials']"
   ]
  },
  {
   "cell_type": "markdown",
   "metadata": {},
   "source": [
    "### import"
   ]
  },
  {
   "cell_type": "code",
   "execution_count": 27,
   "metadata": {},
   "outputs": [],
   "source": [
    "import os\n",
    "import shutil"
   ]
  },
  {
   "cell_type": "markdown",
   "metadata": {},
   "source": [
    "### const"
   ]
  },
  {
   "cell_type": "code",
   "execution_count": 28,
   "metadata": {},
   "outputs": [],
   "source": [
    "input_file_path = './inputData'\n",
    "output_file_path = './outputData'\n",
    "\n",
    "default_folder_name_list = ['1.all_folder', '2.one_folder', '3.one_file']"
   ]
  },
  {
   "cell_type": "markdown",
   "metadata": {},
   "source": [
    "### init input folder"
   ]
  },
  {
   "cell_type": "markdown",
   "metadata": {},
   "source": [
    "##### fuction"
   ]
  },
  {
   "cell_type": "code",
   "execution_count": 29,
   "metadata": {},
   "outputs": [],
   "source": [
    "def create_folder(path):\n",
    "    if not os.path.exists(path):\n",
    "        os.makedirs(path)\n",
    "\n",
    "def merge_path(path, filename):\n",
    "    return os.path.join(path, filename)\n",
    "\n",
    "def init_input_folder():\n",
    "    create_folder(input_file_path)\n",
    "    for foldername in default_folder_name_list:\n",
    "        folderpath = merge_path(input_file_path, foldername)\n",
    "        create_folder(folderpath)\n",
    "        \n",
    "def init_ouput_folder():\n",
    "    if os.path.exists(output_file_path):\n",
    "        shutil.rmtree(output_file_path) \n",
    "    os.makedirs(output_file_path)\n",
    "    for default_foldername in default_folder_name_list:\n",
    "        default_folderpath = merge_path(output_file_path, default_foldername)\n",
    "        create_folder(default_folderpath)\n",
    "    \n",
    "def init_folder():\n",
    "    init_input_folder()\n",
    "    init_ouput_folder()\n"
   ]
  },
  {
   "cell_type": "code",
   "execution_count": 30,
   "metadata": {},
   "outputs": [],
   "source": [
    "init_folder()"
   ]
  },
  {
   "cell_type": "markdown",
   "metadata": {},
   "source": [
    "### 1.all_folder"
   ]
  },
  {
   "cell_type": "markdown",
   "metadata": {},
   "source": [
    "##### function"
   ]
  },
  {
   "cell_type": "code",
   "execution_count": 37,
   "metadata": {},
   "outputs": [],
   "source": [
    "input_all_folder_path = merge_path(input_file_path, default_folder_name_list[0])\n",
    "\n",
    "output_all_folder_path = merge_path(output_file_path, default_folder_name_list[0])\n",
    "\n",
    "\n",
    "def get_all_file_name(path):\n",
    "    try:\n",
    "        return os.listdir(path)\n",
    "    except:\n",
    "        print('get file name error', path)\n",
    "        return []\n",
    "\n",
    "def get_path_content(path):\n",
    "    try:\n",
    "        with open(path, 'r', encoding='utf-8') as file:\n",
    "            content = file.read()\n",
    "        return content\n",
    "    except: \n",
    "        print('get content error', path)\n",
    "        return ''\n",
    "    \n",
    "def replace_content(content, desplace_word):\n",
    "    big_desplace_word = desplace_word[0].upper() + desplace_word[1:]\n",
    "    new_content = content.replace(target_word, desplace_word)\n",
    "    output_content = new_content.replace(big_target_word, big_desplace_word)\n",
    "    return output_content\n",
    "    \n",
    "def create_file(path, content):\n",
    "    try:\n",
    "        with open(path, 'w', encoding='utf-8') as new_file:\n",
    "                new_file.write(content)\n",
    "        print('生成新檔案 : ', path)\n",
    "    except: \n",
    "        print('create file error', path)\n",
    "\n",
    "def do_all_folder():\n",
    "    input_all_folder_name = get_all_file_name(input_all_folder_path)\n",
    "    for folder_name in input_all_folder_name:\n",
    "        output_folder_path = merge_path(output_all_folder_path, folder_name)\n",
    "        create_folder(output_folder_path)\n",
    "        \n",
    "        input_folder_path = merge_path(input_all_folder_path, folder_name)\n",
    "        input_folder_path = merge_path(input_folder_path, target_word)\n",
    "        input_all_filename = get_all_file_name(input_folder_path)\n",
    "        \n",
    "        \n",
    "        for entityname in output_entitys:\n",
    "            output_entity_path = merge_path(output_folder_path, entityname)\n",
    "            create_folder(output_entity_path)\n",
    "            \n",
    "            for filename in input_all_filename:\n",
    "                input_file_path = merge_path(input_folder_path, filename)\n",
    "                input_content = get_path_content(input_file_path)\n",
    "                \n",
    "                output_content = replace_content(input_content, entityname)\n",
    "                output_filename = replace_content(filename, entityname)\n",
    "                \n",
    "                output_entity_file_path = merge_path(output_entity_path, output_filename)\n",
    "                create_file(output_entity_file_path, output_content )\n",
    "                "
   ]
  },
  {
   "cell_type": "markdown",
   "metadata": {},
   "source": [
    "### 2.one_folder"
   ]
  },
  {
   "cell_type": "code",
   "execution_count": 32,
   "metadata": {},
   "outputs": [],
   "source": [
    "input_one_folder_path = merge_path(input_file_path, default_folder_name_list[1])\n",
    "output_one_folder_path = merge_path(output_file_path, default_folder_name_list[1])\n",
    "def do_one_folder():\n",
    "    input_one_folder_name = get_all_file_name(input_one_folder_path)\n",
    "    for folder_name in input_one_folder_name:\n",
    "        output_folder_path = merge_path(output_one_folder_path, folder_name)\n",
    "        create_folder(output_folder_path)\n",
    "        \n",
    "        input_folder_path = merge_path(input_one_folder_path, folder_name)        \n",
    "        input_all_filename = get_all_file_name(input_folder_path)\n",
    "        \n",
    "        \n",
    "        for entityname in output_entitys:\n",
    "            \n",
    "            for filename in input_all_filename:\n",
    "                input_file_path = merge_path(input_folder_path, filename)\n",
    "                input_content = get_path_content(input_file_path)\n",
    "                \n",
    "                output_content = replace_content(input_content, entityname)\n",
    "                output_filename = replace_content(filename, entityname)\n",
    "                \n",
    "                output_entity_file_path = merge_path(output_folder_path, output_filename)\n",
    "                create_file(output_entity_file_path, output_content )"
   ]
  },
  {
   "cell_type": "markdown",
   "metadata": {},
   "source": [
    "### 3.one_file"
   ]
  },
  {
   "cell_type": "code",
   "execution_count": 41,
   "metadata": {},
   "outputs": [],
   "source": [
    "input_one_file_path = merge_path(input_file_path, default_folder_name_list[2])\n",
    "output_one_file_path = merge_path(output_file_path, default_folder_name_list[2])\n",
    "\n",
    "def do_one_file():\n",
    "    input_one_folder_name = get_all_file_name(input_one_file_path)\n",
    "    for folder_name in input_one_folder_name:\n",
    "        output_folder_path = merge_path(output_one_file_path, folder_name)\n",
    "        create_folder(output_folder_path)\n",
    "        \n",
    "        input_folder_path = merge_path(input_one_file_path, folder_name)        \n",
    "        input_all_filename = get_all_file_name(input_folder_path)\n",
    "        \n",
    "        for filename in input_all_filename:\n",
    "            all_content = ''\n",
    "            input_file_path = merge_path(input_folder_path, filename)\n",
    "            input_content = get_path_content(input_file_path)\n",
    "            \n",
    "            for entityname in output_entitys:\n",
    "            \n",
    "                output_content = replace_content(input_content, entityname)\n",
    "                all_content = all_content + output_content\n",
    "            \n",
    "            output_entity_file_path = merge_path(output_folder_path, filename)\n",
    "            create_file(output_entity_file_path, all_content )\n",
    "            "
   ]
  },
  {
   "cell_type": "code",
   "execution_count": 42,
   "metadata": {},
   "outputs": [
    {
     "name": "stdout",
     "output_type": "stream",
     "text": [
      "生成新檔案 :  ./outputData/3.one_file/inrelation/export.ts\n",
      "生成新檔案 :  ./outputData/3.one_file/inrelation/import.ts\n",
      "生成新檔案 :  ./outputData/3.one_file/instore/state.ts\n",
      "生成新檔案 :  ./outputData/3.one_file/instore/featureKeys.ts\n",
      "生成新檔案 :  ./outputData/3.one_file/instore/reducers.ts\n",
      "生成新檔案 :  ./outputData/3.one_file/instore/import.ts\n"
     ]
    }
   ],
   "source": [
    "do_one_file()"
   ]
  },
  {
   "cell_type": "code",
   "execution_count": 34,
   "metadata": {},
   "outputs": [
    {
     "data": {
      "text/plain": [
       "[]"
      ]
     },
     "execution_count": 34,
     "metadata": {},
     "output_type": "execute_result"
    }
   ],
   "source": [
    "get_all_file_name(output_all_folder_path)"
   ]
  },
  {
   "cell_type": "code",
   "execution_count": 35,
   "metadata": {},
   "outputs": [
    {
     "name": "stdout",
     "output_type": "stream",
     "text": [
      "['frontend', 'backend']\n"
     ]
    }
   ],
   "source": [
    "print(get_all_file_name(input_all_folder_path))"
   ]
  },
  {
   "cell_type": "code",
   "execution_count": null,
   "metadata": {},
   "outputs": [],
   "source": []
  }
 ],
 "metadata": {
  "kernelspec": {
   "display_name": "Python 3",
   "language": "python",
   "name": "python3"
  },
  "language_info": {
   "codemirror_mode": {
    "name": "ipython",
    "version": 3
   },
   "file_extension": ".py",
   "mimetype": "text/x-python",
   "name": "python",
   "nbconvert_exporter": "python",
   "pygments_lexer": "ipython3",
   "version": "3.9.6"
  }
 },
 "nbformat": 4,
 "nbformat_minor": 2
}
